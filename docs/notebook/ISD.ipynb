{
 "cells": [
  {
   "cell_type": "markdown",
   "metadata": {},
   "source": [
    "## ISD (AWS and NOAA)"
   ]
  },
  {
   "cell_type": "markdown",
   "metadata": {},
   "source": [
    "`source` is the same for ISD: [\"ISD\", \"isd\", \"NOAA-isd\", \"noaa-isd\", \"noaa_isd\", \"NOAA-ISD\"]"
   ]
  },
  {
   "cell_type": "code",
   "execution_count": null,
   "metadata": {},
   "outputs": [],
   "source": [
    "from pywx import *\n",
    "\n",
    "# Get the metadata for the ISD dataset (AWS and NOAA)\n",
    "# AWS S3 bucket: https://noaa-isd-pds.s3.amazonaws.com/index.html\n",
    "# NOAA: https://www.ncei.noaa.gov/products/land-based-station/integrated-surface-database\n",
    "met = pywx(source='ISD')\n",
    "\n",
    "# Load the metadata\n",
    "met.get_meta(load=True).head()"
   ]
  },
  {
   "cell_type": "markdown",
   "metadata": {},
   "source": [
    "meta data is originally from https://www.ncei.noaa.gov/products/land-based-station/integrated-surface-database"
   ]
  },
  {
   "cell_type": "markdown",
   "metadata": {},
   "source": [
    "- get_data `source`\n",
    "  - \"AWS\", \"aws\", \"S3\", \"s3\" is using AWS S3, \n",
    "  - \"NOAA\", \"noaa\", \"NOAA-isd\", \"noaa-isd\", \"noaa_isd\", \"NOAA-ISD\" is using 'NOAA' source\n",
    "- get_data `year`, int or str is needed when obtaining ISD\n",
    "- get_data `station`, station name when `pywx(source='UK-hist_station')`; station id when `pywx(source='ISD')`\n",
    "\n",
    "Note! station id = ISD metadata [\"USAF\"] + ISD metadata[\"WBAN\"]; `year` must be corresponding in ISD metadata"
   ]
  },
  {
   "cell_type": "code",
   "execution_count": null,
   "metadata": {},
   "outputs": [],
   "source": [
    "met.get_data(year=2011, station= \"00701899999\", isd_source=\"AWS\").head()"
   ]
  },
  {
   "cell_type": "markdown",
   "metadata": {},
   "source": [
    "save the data"
   ]
  },
  {
   "cell_type": "code",
   "execution_count": null,
   "metadata": {},
   "outputs": [],
   "source": [
    "df = met.get_data(year=2011, station= \"00701899999\", isd_source=\"AWS\")\n",
    "df.to_csv('data.csv', index=False)"
   ]
  }
 ],
 "metadata": {
  "kernelspec": {
   "display_name": "Python 3 (ipykernel)",
   "language": "python",
   "name": "python3"
  },
  "language_info": {
   "codemirror_mode": {
    "name": "ipython",
    "version": 3
   },
   "file_extension": ".py",
   "mimetype": "text/x-python",
   "name": "python",
   "nbconvert_exporter": "python",
   "pygments_lexer": "ipython3",
   "version": "3.11.9"
  }
 },
 "nbformat": 4,
 "nbformat_minor": 4
}
